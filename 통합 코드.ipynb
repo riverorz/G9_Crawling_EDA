{
 "cells": [
  {
   "cell_type": "markdown",
   "metadata": {},
   "source": [
    "# 오픈마켓 카테고리별 특성 파악"
   ]
  },
  {
   "cell_type": "markdown",
   "metadata": {},
   "source": [
    "## 1. 데이터 수집(셀레니움 방식)"
   ]
  },
  {
   "cell_type": "code",
   "execution_count": null,
   "metadata": {},
   "outputs": [],
   "source": [
    "import requests\n",
    "from bs4 import BeautifulSoup\n",
    "import pandas as pd\n",
    "import math\n",
    "from tqdm.notebook import tqdm\n",
    "from selenium import webdriver\n",
    "import time\n",
    "from datetime import datetime"
   ]
  },
  {
   "cell_type": "code",
   "execution_count": null,
   "metadata": {},
   "outputs": [],
   "source": [
    "def 함수(soup,choice):    \n",
    "    result = []\n",
    "    경로 = []\n",
    "    경로2 = []\n",
    "    for link in soup.find_all('a',class_=\"itemcard__link\"):\n",
    "        경로.append(link.get('href'))\n",
    "    for i in range(0,len(경로),2) :\n",
    "        경로2.append(경로[i])\n",
    "    for i in tqdm(range(choice)):\n",
    "        이름 = soup.select('#bestContentsList > ul > li > div > div > div.itemcard__info__major > a > span > span.itemcard__title__name ' )[i].text\n",
    "        가격 = soup.select('#bestContentsList > ul > li > div > div > div.itemcard__info__major > a > p > span > strong ' )[i].text\n",
    "        구매 = soup.select('#bestContentsList > ul > li > div > div > div.itemcard__info__action > ul > li > span > b:nth-of-type(1)' )[i].text\n",
    "        url2 = \"https://www.g9.co.kr\"+경로2[i]\n",
    "        req = requests.get(url2)\n",
    "        cont = req.content\n",
    "        soup = BeautifulSoup(cont, 'html.parser')\n",
    "        대분류 = soup.select('#container > div.vip_contents.vip_v3 > div.select_location > div:nth-of-type(1) > a')[0].text\n",
    "        대분류 = 대분류.strip()\n",
    "        중분류 = soup.select('#container > div.vip_contents.vip_v3 > div.select_location > div:nth-of-type(2) > a')[0].text\n",
    "        중분류 = 중분류.strip()\n",
    "        try:\n",
    "            소분류 = soup.select('#container > div.vip_contents.vip_v3 > div.select_location > div:nth-of-type(3) > a')[0].text\n",
    "            소분류 = 소분류.strip()\n",
    "        except :\n",
    "            소분류 = ''\n",
    "\n",
    "        data = [이름,가격,구매,대분류,중분류,소분류]\n",
    "        result.append(data)\n",
    "        html = driver.page_source\n",
    "        soup = BeautifulSoup(html, 'html.parser')\n",
    "    return result"
   ]
  },
  {
   "cell_type": "code",
   "execution_count": null,
   "metadata": {},
   "outputs": [],
   "source": [
    "driver = webdriver.Chrome(r'chromedriver.exe')\n",
    "driver.implicitly_wait(3) # 잠시대기\n",
    "driver.get('https://www.g9.co.kr/Display/Best')\n",
    "\n",
    "while True :\n",
    "    print(\"\"\"카테고리 번호는 \n",
    "전체 : 1, 해외직구: 2, 맛있는지구 : 3, 식품 : 4 뷰티 : 5\n",
    "백화점.몰 : 6 , 홈스타일링 : 7, 주방.생필품 : 8, 가구.리빙.반려 : 9 , 가전 : 10 \n",
    "컴퓨터 : 11 , 패션의류 : 12 , 신발.가방.주얼리 : 13 , 건강.자동차공구 : 14 , 출산.유아동 : 15\n",
    "레저.아웃도어 : 16 , 취미.문구.도서 : 17 , e쿠폰 : 18 , 여행 : 19  , 패션편집샵 : 20\n",
    "\"\"\")\n",
    "    choice = int(input('원하는 숫자를 입력해주세요 : '))\n",
    "    if 1 <= choice <=20:\n",
    "        if choice >=15 :\n",
    "            next1 = driver.find_element_by_xpath('//*[@id=\"plug-swipe-list1\"]/button[2]')\n",
    "            next1.click()\n",
    "            number = driver.find_element_by_xpath(f'//*[@id=\"plug-swipe-list1\"]/div/div/div[{choice}]/div/div/div/button')\n",
    "            number.click()\n",
    "            time.sleep(1)\n",
    "        number = driver.find_element_by_xpath(f'//*[@id=\"plug-swipe-list1\"]/div/div/div[{choice}]/div/div/div/button')\n",
    "        number.click()            \n",
    "        time.sleep(1)\n",
    "        while True :\n",
    "            choice = int(input('실시간: 0, 주간:1 선택해주세요'))\n",
    "            if choice == 1:\n",
    "                number = driver.find_element_by_xpath('//*[@id=\"contents\"]/div[2]/ul/li[2]/button')\n",
    "                number.click()\n",
    "                break\n",
    "            elif choice == 0:\n",
    "                break\n",
    "            print('다른 번호를 입력하셨습니다. ')\n",
    "    else:\n",
    "        print('다른번호를 입력하셨습니다.')\n",
    "        continue           \n",
    "    \n",
    "    break\n",
    "time.sleep(1)\n",
    "html = driver.page_source\n",
    "soup = BeautifulSoup(html, 'html.parser')\n",
    "이름 = soup.select('#bestContentsList > ul > li > div > div > div.itemcard__info__major > a > span > span.itemcard__title__name ' )\n",
    "print(f\"선택한 페이지에서 상품 수는 {len(이름)}입니다. 몇개를 추출하시겠습니까?\")\n",
    "choice = int(input('고르기 : '))\n",
    "result = 함수(soup,choice)\n",
    "print(\"끝\")\n",
    "\n",
    "results_df = pd.DataFrame(result)\n",
    "results_df.columns = ['title', 'price','구매','대','중','소']\n",
    "\n",
    "today = datetime.today().strftime('%m.%d %H.%m')\n",
    "results_df.to_csv(f'{today}.csv')\n",
    "results_df"
   ]
  },
  {
   "cell_type": "code",
   "execution_count": null,
   "metadata": {},
   "outputs": [],
   "source": [
    "#results_df.to_excel('./식품_실시간_0월00이.xlsx', index= False)"
   ]
  },
  {
   "cell_type": "markdown",
   "metadata": {},
   "source": [
    "## 2. 데이터 전처리"
   ]
  },
  {
   "cell_type": "code",
   "execution_count": null,
   "metadata": {},
   "outputs": [],
   "source": [
    "from pandas import DataFrame\n",
    "import pandas as pd\n",
    "import numpy as np\n",
    "import matplotlib.pyplot as plt\n"
   ]
  },
  {
   "cell_type": "markdown",
   "metadata": {},
   "source": [
    "### 파일 불러오기"
   ]
  },
  {
   "cell_type": "code",
   "execution_count": null,
   "metadata": {},
   "outputs": [],
   "source": [
    "df1=pd.read_excel('./식품_실시간_1월22일.xlsx')\n",
    "df2=pd.read_excel('./식품_주간_1월22일.xlsx')\n",
    "'''\n",
    "df1=pd.read_excel('./뷰티_실시간_1월22일.xlsx')\n",
    "df2=pd.read_excel('./뷰티_주간_1월22일.xlsx')\n",
    "'''\n",
    "'''\n",
    "df1=pd.read_excel('./홈스타일링_실시간_1월22일.xlsx')\n",
    "df2=pd.read_excel('./홈스타일링_주간_1월22일.xlsx')\n",
    "'''"
   ]
  },
  {
   "cell_type": "markdown",
   "metadata": {},
   "source": [
    "### str을 int로 변환하기 1) ','제거 2) 형변환"
   ]
  },
  {
   "cell_type": "code",
   "execution_count": null,
   "metadata": {},
   "outputs": [],
   "source": [
    "df1['구매']= df1['구매'].str.replace(',','')\n",
    "df1['price']= df1['price'].str.replace(',','')\n",
    "df2['구매']= df2['구매'].str.replace(',','')\n",
    "df2['price']= df2['price'].str.replace(',','')"
   ]
  },
  {
   "cell_type": "code",
   "execution_count": null,
   "metadata": {},
   "outputs": [],
   "source": [
    "df1['구매']=df1['구매'].astype(int)\n",
    "df1['price']=df1['price'].astype(int)\n",
    "df2['구매']=df2['구매'].astype(int)\n",
    "df2['price']=df2['price'].astype(int)"
   ]
  },
  {
   "cell_type": "markdown",
   "metadata": {},
   "source": [
    "### 랭킹, 매출량 칼럼 추가"
   ]
  },
  {
   "cell_type": "code",
   "execution_count": null,
   "metadata": {},
   "outputs": [],
   "source": [
    "list = []\n",
    "for i in range(1,101):\n",
    "    list.append(i)\n",
    "    \n",
    "df1['랭킹'] = list\n",
    "df2['랭킹'] = list\n",
    "\n",
    "df1['매출량'] = df1['price'] * df1['구매']\n",
    "df2['매출량'] = df2['price'] * df2['구매']"
   ]
  },
  {
   "cell_type": "markdown",
   "metadata": {},
   "source": [
    "### 실시간, 주간 결합 테이블 d3 생성"
   ]
  },
  {
   "cell_type": "code",
   "execution_count": null,
   "metadata": {},
   "outputs": [],
   "source": [
    "df11= df1[['title', '랭킹']]\n",
    "df22 = df2[['title','랭킹']]\n",
    "df3 = pd.merge(df11,df22 ,on = 'title', how='inner')\n",
    "df3 = df3.rename({'랭킹_x':'랭킹(주간)', '랭킹_y':'랭킹(실시간)'}, axis='columns')"
   ]
  },
  {
   "cell_type": "code",
   "execution_count": null,
   "metadata": {},
   "outputs": [],
   "source": [
    "df1"
   ]
  },
  {
   "cell_type": "code",
   "execution_count": null,
   "metadata": {},
   "outputs": [],
   "source": [
    "df1_head = df1.head(10)\n",
    "df1_head"
   ]
  },
  {
   "cell_type": "code",
   "execution_count": null,
   "metadata": {},
   "outputs": [],
   "source": [
    "df2"
   ]
  },
  {
   "cell_type": "code",
   "execution_count": null,
   "metadata": {},
   "outputs": [],
   "source": [
    "df2_head = df2.head(10)\n",
    "df2_head"
   ]
  },
  {
   "cell_type": "code",
   "execution_count": null,
   "metadata": {
    "scrolled": true
   },
   "outputs": [],
   "source": [
    "df3"
   ]
  },
  {
   "cell_type": "code",
   "execution_count": null,
   "metadata": {},
   "outputs": [],
   "source": [
    "df3.describe()"
   ]
  },
  {
   "cell_type": "markdown",
   "metadata": {},
   "source": [
    "## 3. 데이터 시각화 (df1 : 실시간 df2 : 주간) *코드 default 주간"
   ]
  },
  {
   "cell_type": "code",
   "execution_count": null,
   "metadata": {},
   "outputs": [],
   "source": [
    "import pandas as pd\n",
    "pd.options.display.float_format = '{:.2f}'.format\n",
    "import matplotlib.pyplot as plt\n",
    "# matplotlib 폰트설정\n",
    "# plt.rc('font', family='NanumGothicOTF') # For MacOS\n",
    "plt.rc('font', family='NanumGothic') # For Windows\n",
    "print(plt.rcParams['font.family'])\n",
    "import seaborn  as sns"
   ]
  },
  {
   "cell_type": "code",
   "execution_count": null,
   "metadata": {},
   "outputs": [],
   "source": [
    "import platform\n",
    "from matplotlib import font_manager, rc\n",
    "import matplotlib.pyplot as plt\n",
    "%matplotlib inline \n",
    "plt.rcParams['axes.unicode_minus'] = False\n",
    " \n",
    "if platform.system() == 'Darwin':\n",
    "    rc('font', family = 'AppleGothic')\n",
    "elif platform.system() == 'Windows':\n",
    "    path ='C:/Windows/Fonts/malgun.ttf'\n",
    "    font_name = font_manager.FontProperties(fname=path).get_name()\n",
    "    rc('font', family=font_name)\n",
    "else:\n",
    "    print(\"Can't find your system.\")"
   ]
  },
  {
   "cell_type": "code",
   "execution_count": null,
   "metadata": {},
   "outputs": [],
   "source": [
    "import platform\n",
    "from matplotlib import font_manager, rc\n",
    "import matplotlib.pyplot as plt\n",
    "%matplotlib inline \n",
    "plt.rcParams['axes.unicode_minus'] = False\n",
    " \n",
    "if platform.system() == 'Darwin':\n",
    "    rc('font', family = 'AppleGothic')\n",
    "elif platform.system() == 'Windows':\n",
    "    path ='C:/Windows/Fonts/malgun.ttf'\n",
    "    font_name = font_manager.FontProperties(fname=path).get_name()\n",
    "    rc('font', family=font_name)\n",
    "else:\n",
    "    print(\"Can't find your system.\")"
   ]
  },
  {
   "cell_type": "code",
   "execution_count": null,
   "metadata": {},
   "outputs": [],
   "source": [
    "fig = plt.figure(figsize=(16,9))"
   ]
  },
  {
   "cell_type": "markdown",
   "metadata": {},
   "source": [
    "### 중분류 groupby, 카테고리 중분류 비율"
   ]
  },
  {
   "cell_type": "code",
   "execution_count": null,
   "metadata": {},
   "outputs": [],
   "source": [
    "df2.groupby('중').count()"
   ]
  },
  {
   "cell_type": "code",
   "execution_count": null,
   "metadata": {},
   "outputs": [],
   "source": [
    "df2_중  = df2.groupby('중').count() #랭킹 100 안에 카테고리별  개수\n",
    "df2_중 = df2_중[['title']]"
   ]
  },
  {
   "cell_type": "code",
   "execution_count": null,
   "metadata": {},
   "outputs": [],
   "source": [
    "plt.figure(figsize=(18,15)) #원사이즈 조절 가능\n",
    "plt.title('카테고리 중분류 비율')\n",
    "\n",
    "plt.pie(df2_중['title'], labels = df2_중.index, autopct='%0.0f%%')\n",
    "plt.show()"
   ]
  },
  {
   "cell_type": "markdown",
   "metadata": {},
   "source": [
    "### Top 10 (df1_head or df2_head) 그래프"
   ]
  },
  {
   "cell_type": "code",
   "execution_count": null,
   "metadata": {},
   "outputs": [],
   "source": [
    "sns.barplot(x= 'title', y='price' , data= df2_head)\n",
    "plt.title('주간 카테고리 TOP 10(가격)')\n",
    "plt.xticks(rotation =270)\n",
    "plt.show()"
   ]
  },
  {
   "cell_type": "code",
   "execution_count": null,
   "metadata": {},
   "outputs": [],
   "source": [
    "sns.barplot(x= 'title', y='구매' , data= df2_head)\n",
    "plt.title('주간 카테고리 TOP 10(구매)')\n",
    "plt.xticks(rotation =270)\n",
    "plt.show()"
   ]
  },
  {
   "cell_type": "code",
   "execution_count": null,
   "metadata": {},
   "outputs": [],
   "source": [
    "sns.barplot(x= 'title', y='매출량' , data= df2_head)\n",
    "plt.title('주간 카테고리 TOP 10(매출량)')\n",
    "plt.xticks(rotation =270)\n",
    "plt.show()"
   ]
  },
  {
   "cell_type": "code",
   "execution_count": null,
   "metadata": {},
   "outputs": [],
   "source": [
    "sns.boxplot(x = \"중\", y = \"구매\", data = df2)\n",
    "plt.title('주간 카테고리 TOP 10 Box Plot')\n",
    "\n",
    "plt.xticks(rotation =270)\n",
    "plt.show()"
   ]
  },
  {
   "cell_type": "code",
   "execution_count": null,
   "metadata": {},
   "outputs": [],
   "source": []
  }
 ],
 "metadata": {
  "kernelspec": {
   "display_name": "Python 3",
   "language": "python",
   "name": "python3"
  },
  "language_info": {
   "codemirror_mode": {
    "name": "ipython",
    "version": 3
   },
   "file_extension": ".py",
   "mimetype": "text/x-python",
   "name": "python",
   "nbconvert_exporter": "python",
   "pygments_lexer": "ipython3",
   "version": "3.6.10"
  }
 },
 "nbformat": 4,
 "nbformat_minor": 4
}
